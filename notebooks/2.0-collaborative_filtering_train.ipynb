{
  "nbformat": 4,
  "nbformat_minor": 0,
  "metadata": {
    "colab": {
      "provenance": []
    },
    "kernelspec": {
      "name": "python3",
      "display_name": "Python 3"
    },
    "language_info": {
      "name": "python"
    }
  },
  "cells": [
    {
      "cell_type": "code",
      "execution_count": 1,
      "metadata": {
        "colab": {
          "base_uri": "https://localhost:8080/"
        },
        "id": "ysvedyDP5sI0",
        "outputId": "39afde1f-3e43-4818-b517-a3f794d179c7"
      },
      "outputs": [
        {
          "output_type": "stream",
          "name": "stdout",
          "text": [
            "Collecting scikit-surprise\n",
            "  Downloading scikit-surprise-1.1.3.tar.gz (771 kB)\n",
            "\u001b[?25l     \u001b[90m━━━━━━━━━━━━━━━━━━━━━━━━━━━━━━━━━━━━━━━━\u001b[0m \u001b[32m0.0/772.0 kB\u001b[0m \u001b[31m?\u001b[0m eta \u001b[36m-:--:--\u001b[0m\r\u001b[2K     \u001b[91m━━━━\u001b[0m\u001b[90m╺\u001b[0m\u001b[90m━━━━━━━━━━━━━━━━━━━━━━━━━━━━━━━━━━━\u001b[0m \u001b[32m81.9/772.0 kB\u001b[0m \u001b[31m2.9 MB/s\u001b[0m eta \u001b[36m0:00:01\u001b[0m\r\u001b[2K     \u001b[91m━━━━━━━━━━━━━━━━━━━━━━━━━━━━━━━━━━━━━━━\u001b[0m\u001b[91m╸\u001b[0m \u001b[32m768.0/772.0 kB\u001b[0m \u001b[31m12.0 MB/s\u001b[0m eta \u001b[36m0:00:01\u001b[0m\r\u001b[2K     \u001b[90m━━━━━━━━━━━━━━━━━━━━━━━━━━━━━━━━━━━━━━━━\u001b[0m \u001b[32m772.0/772.0 kB\u001b[0m \u001b[31m9.0 MB/s\u001b[0m eta \u001b[36m0:00:00\u001b[0m\n",
            "\u001b[?25h  Preparing metadata (setup.py) ... \u001b[?25l\u001b[?25hdone\n",
            "Requirement already satisfied: joblib>=1.0.0 in /usr/local/lib/python3.10/dist-packages (from scikit-surprise) (1.3.2)\n",
            "Requirement already satisfied: numpy>=1.17.3 in /usr/local/lib/python3.10/dist-packages (from scikit-surprise) (1.23.5)\n",
            "Requirement already satisfied: scipy>=1.3.2 in /usr/local/lib/python3.10/dist-packages (from scikit-surprise) (1.11.3)\n",
            "Building wheels for collected packages: scikit-surprise\n",
            "  Building wheel for scikit-surprise (setup.py) ... \u001b[?25l\u001b[?25hdone\n",
            "  Created wheel for scikit-surprise: filename=scikit_surprise-1.1.3-cp310-cp310-linux_x86_64.whl size=3163494 sha256=3c0fb7e19b640b6420359048bc542d8815b8422abf118e1a5003ece57c81ee5f\n",
            "  Stored in directory: /root/.cache/pip/wheels/a5/ca/a8/4e28def53797fdc4363ca4af740db15a9c2f1595ebc51fb445\n",
            "Successfully built scikit-surprise\n",
            "Installing collected packages: scikit-surprise\n",
            "Successfully installed scikit-surprise-1.1.3\n"
          ]
        }
      ],
      "source": [
        "!pip install scikit-surprise"
      ]
    },
    {
      "cell_type": "code",
      "source": [
        "from surprise import Dataset, Reader\n",
        "\n",
        "reader = Reader(line_format='user item rating', sep='\\t', rating_scale=(1, 5))\n",
        "train_data = Dataset.load_from_file('train.csv', reader=reader)"
      ],
      "metadata": {
        "id": "IbHHChnD6CQM"
      },
      "execution_count": 2,
      "outputs": []
    },
    {
      "cell_type": "code",
      "source": [
        "import numpy as np\n",
        "from surprise.prediction_algorithms import SVD, KNNBasic, KNNWithMeans, KNNWithZScore\n",
        "\n",
        "param_grid = {\n",
        "    SVD: {\n",
        "        'n_epochs': [5, 10],\n",
        "        'lr_all': [0.002, 0.005],\n",
        "        'reg_all': [0.4, 0.6],\n",
        "        'n_factors': [50, 100],\n",
        "    },\n",
        "    KNNBasic: {\n",
        "        'k': [20, 40],\n",
        "        'min_k': [1, 5],\n",
        "        'sim_options': {\n",
        "            'name': ['cosine', 'msd', 'pearson'],\n",
        "            'user_based': [True, False],\n",
        "        }\n",
        "    },\n",
        "    KNNWithMeans: {\n",
        "        'k': [20, 40],\n",
        "        'min_k': [1, 5],\n",
        "        'sim_options': {\n",
        "            'name': ['cosine', 'msd', 'pearson'],\n",
        "            'user_based': [True, False],\n",
        "        }\n",
        "    },\n",
        "    KNNWithZScore: {\n",
        "        'k': [20, 40],\n",
        "        'min_k': [1, 5],\n",
        "        'sim_options': {\n",
        "            'name': ['cosine', 'msd', 'pearson'],\n",
        "            'user_based': [True, False],\n",
        "        }\n",
        "    }\n",
        "}"
      ],
      "metadata": {
        "id": "gr8hhPo06h9r"
      },
      "execution_count": 23,
      "outputs": []
    },
    {
      "cell_type": "code",
      "source": [
        "algorithms = [SVD, KNNBasic, KNNWithMeans, KNNWithZScore]"
      ],
      "metadata": {
        "id": "833nrUix7UV5"
      },
      "execution_count": 24,
      "outputs": []
    },
    {
      "cell_type": "code",
      "source": [
        "from surprise.model_selection import GridSearchCV\n",
        "from tqdm import tqdm\n",
        "\n",
        "grid_search_results = dict()\n",
        "\n",
        "for algorithm in tqdm(algorithms):\n",
        "    current_param_grid = param_grid[algorithm]\n",
        "\n",
        "    grid_search = GridSearchCV(algorithm, current_param_grid, measures=['rmse', 'mae', 'mse', 'fcp'], cv=5)\n",
        "    grid_search.fit(train_data)\n",
        "    grid_search_results[algorithm] = grid_search"
      ],
      "metadata": {
        "id": "HKJ783l07k14"
      },
      "execution_count": null,
      "outputs": []
    },
    {
      "cell_type": "code",
      "source": [
        "for cls, result in grid_search_results.items():\n",
        "    print(cls.__name__, result.best_score)"
      ],
      "metadata": {
        "colab": {
          "base_uri": "https://localhost:8080/"
        },
        "id": "THCtCryB8Bqh",
        "outputId": "115b0d0c-d5c5-43e7-e6b1-6f43a7d59a34"
      },
      "execution_count": 28,
      "outputs": [
        {
          "output_type": "stream",
          "name": "stdout",
          "text": [
            "SVD {'rmse': 0.962311873072293, 'mae': 0.7712758672541239, 'mse': 0.9260590130253148, 'fcp': 0.6872404615722598}\n",
            "KNNBasic {'rmse': 0.9865432641805876, 'mae': 0.7790153346051283, 'mse': 0.9732944563746375, 'fcp': 0.701349086585812}\n",
            "KNNWithMeans {'rmse': 0.9408033730123566, 'mae': 0.7391727293224762, 'mse': 0.8851188965760162, 'fcp': 0.6953603565575506}\n",
            "KNNWithZScore {'rmse': 0.9430370670048006, 'mae': 0.7404776009657875, 'mse': 0.8893377687172374, 'fcp': 0.6962916530747497}\n"
          ]
        }
      ]
    },
    {
      "cell_type": "code",
      "source": [
        "best_algo = grid_search_results[KNNBasic].best_estimator['rmse']\n",
        "best_params = grid_search_results[KNNBasic].best_params['rmse']"
      ],
      "metadata": {
        "id": "WrzdegA0tQat"
      },
      "execution_count": 30,
      "outputs": []
    },
    {
      "cell_type": "code",
      "source": [
        "best_algo"
      ],
      "metadata": {
        "colab": {
          "base_uri": "https://localhost:8080/"
        },
        "id": "PzJKIRlAxjfO",
        "outputId": "9c27d5ce-4d0c-4554-f925-5adf391fde94"
      },
      "execution_count": 31,
      "outputs": [
        {
          "output_type": "execute_result",
          "data": {
            "text/plain": [
              "<surprise.prediction_algorithms.knns.KNNBasic at 0x7cf9affd09a0>"
            ]
          },
          "metadata": {},
          "execution_count": 31
        }
      ]
    },
    {
      "cell_type": "code",
      "source": [
        "best_params"
      ],
      "metadata": {
        "colab": {
          "base_uri": "https://localhost:8080/"
        },
        "id": "vbm-XKWYxwU9",
        "outputId": "f164d78b-fce5-4866-fc23-4745fa8f00a0"
      },
      "execution_count": 32,
      "outputs": [
        {
          "output_type": "execute_result",
          "data": {
            "text/plain": [
              "{'k': 40, 'min_k': 1, 'sim_options': {'name': 'msd', 'user_based': False}}"
            ]
          },
          "metadata": {},
          "execution_count": 32
        }
      ]
    }
  ]
}