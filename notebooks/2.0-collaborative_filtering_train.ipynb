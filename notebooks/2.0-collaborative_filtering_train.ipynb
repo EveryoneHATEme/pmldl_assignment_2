{
 "nbformat": 4,
 "nbformat_minor": 0,
 "metadata": {
  "colab": {
   "provenance": []
  },
  "kernelspec": {
   "name": "python3",
   "language": "python",
   "display_name": "Python 3 (ipykernel)"
  },
  "language_info": {
   "name": "python"
  }
 },
 "cells": [
  {
   "cell_type": "code",
   "source": [
    "from surprise import Dataset, Reader\n",
    "from surprise.prediction_algorithms import SVD, KNNBasic, KNNWithMeans, KNNWithZScore\n",
    "from surprise.model_selection import GridSearchCV\n",
    "import pandas as pd\n",
    "from IPython.display import display"
   ],
   "metadata": {
    "id": "IbHHChnD6CQM",
    "ExecuteTime": {
     "end_time": "2023-12-02T01:51:44.982350809Z",
     "start_time": "2023-12-02T01:51:44.969104435Z"
    }
   },
   "execution_count": 28,
   "outputs": []
  },
  {
   "cell_type": "code",
   "execution_count": 8,
   "outputs": [],
   "source": [
    "reader = Reader(line_format='user item rating', sep='\\t', rating_scale=(1, 5))\n",
    "train_data = Dataset.load_from_file('../data/interim/train.csv', reader=reader)"
   ],
   "metadata": {
    "collapsed": false,
    "ExecuteTime": {
     "end_time": "2023-12-01T23:15:39.839306140Z",
     "start_time": "2023-12-01T23:15:39.703622711Z"
    }
   }
  },
  {
   "cell_type": "code",
   "source": [
    "param_grid = {\n",
    "    SVD: {\n",
    "        'n_epochs': [5, 10, 20],\n",
    "        'lr_all': [0.002, 0.005],\n",
    "        'reg_all': [0.02, 0.04, 0.06],\n",
    "        'n_factors': [20, 50, 100],\n",
    "    },\n",
    "    KNNBasic: {\n",
    "        'k': [20, 40],\n",
    "        'min_k': [1, 5],\n",
    "        'sim_options': {\n",
    "            'name': ['cosine', 'msd', 'pearson'],\n",
    "            'user_based': [True, False],\n",
    "        },\n",
    "        'verbose': [False]\n",
    "    },\n",
    "    KNNWithMeans: {\n",
    "        'k': [20, 40],\n",
    "        'min_k': [1, 5],\n",
    "        'sim_options': {\n",
    "            'name': ['cosine', 'msd', 'pearson'],\n",
    "            'user_based': [True, False],\n",
    "        },\n",
    "        'verbose': [False]\n",
    "    },\n",
    "    KNNWithZScore: {\n",
    "        'k': [20, 40],\n",
    "        'min_k': [1, 5],\n",
    "        'sim_options': {\n",
    "            'name': ['cosine', 'msd', 'pearson'],\n",
    "            'user_based': [True, False],\n",
    "        },\n",
    "        'verbose': [False]\n",
    "    }\n",
    "}"
   ],
   "metadata": {
    "id": "gr8hhPo06h9r",
    "ExecuteTime": {
     "end_time": "2023-12-02T01:14:02.550177659Z",
     "start_time": "2023-12-02T01:14:02.530860309Z"
    }
   },
   "execution_count": 19,
   "outputs": []
  },
  {
   "cell_type": "code",
   "source": [
    "grid_search_results = dict()\n",
    "\n",
    "for algorithm in param_grid.keys():\n",
    "    print(f'Current algorithm: {algorithm.__name__}')\n",
    "    current_param_grid = param_grid[algorithm]\n",
    "\n",
    "    grid_search = GridSearchCV(algorithm, current_param_grid, measures=['rmse', 'mae', 'mse', 'fcp'], cv=5)\n",
    "    grid_search.fit(train_data)\n",
    "    grid_search_results[algorithm] = grid_search"
   ],
   "metadata": {
    "id": "HKJ783l07k14",
    "ExecuteTime": {
     "end_time": "2023-12-02T01:26:23.038099383Z",
     "start_time": "2023-12-02T01:14:03.621895894Z"
    }
   },
   "execution_count": 20,
   "outputs": [
    {
     "name": "stdout",
     "output_type": "stream",
     "text": [
      "Current algorithm: SVD\n",
      "Current algorithm: KNNBasic\n",
      "Current algorithm: KNNWithMeans\n",
      "Current algorithm: KNNWithZScore\n"
     ]
    }
   ]
  },
  {
   "cell_type": "code",
   "execution_count": 35,
   "outputs": [
    {
     "data": {
      "text/plain": "       Algorithm      RMSE       MAE       MSE       FCP\n0            SVD  0.939384  0.743340  0.882475  0.693238\n1       KNNBasic  0.985601  0.778970  0.971427  0.700289\n2   KNNWithMeans  0.941704  0.739734  0.886820  0.695249\n3  KNNWithZScore  0.944415  0.741464  0.891940  0.695680",
      "text/html": "<div>\n<style scoped>\n    .dataframe tbody tr th:only-of-type {\n        vertical-align: middle;\n    }\n\n    .dataframe tbody tr th {\n        vertical-align: top;\n    }\n\n    .dataframe thead th {\n        text-align: right;\n    }\n</style>\n<table border=\"1\" class=\"dataframe\">\n  <thead>\n    <tr style=\"text-align: right;\">\n      <th></th>\n      <th>Algorithm</th>\n      <th>RMSE</th>\n      <th>MAE</th>\n      <th>MSE</th>\n      <th>FCP</th>\n    </tr>\n  </thead>\n  <tbody>\n    <tr>\n      <th>0</th>\n      <td>SVD</td>\n      <td>0.939384</td>\n      <td>0.743340</td>\n      <td>0.882475</td>\n      <td>0.693238</td>\n    </tr>\n    <tr>\n      <th>1</th>\n      <td>KNNBasic</td>\n      <td>0.985601</td>\n      <td>0.778970</td>\n      <td>0.971427</td>\n      <td>0.700289</td>\n    </tr>\n    <tr>\n      <th>2</th>\n      <td>KNNWithMeans</td>\n      <td>0.941704</td>\n      <td>0.739734</td>\n      <td>0.886820</td>\n      <td>0.695249</td>\n    </tr>\n    <tr>\n      <th>3</th>\n      <td>KNNWithZScore</td>\n      <td>0.944415</td>\n      <td>0.741464</td>\n      <td>0.891940</td>\n      <td>0.695680</td>\n    </tr>\n  </tbody>\n</table>\n</div>"
     },
     "metadata": {},
     "output_type": "display_data"
    }
   ],
   "source": [
    "result_dataframe = pd.DataFrame.from_dict({\n",
    "    'Algorithm': [cls.__name__ for cls in grid_search_results.keys()],\n",
    "    'RMSE': [result.best_score['rmse'] for result in grid_search_results.values()],\n",
    "    'MAE': [result.best_score['mae'] for result in grid_search_results.values()],\n",
    "    'MSE': [result.best_score['mse'] for result in grid_search_results.values()],\n",
    "    'FCP': [result.best_score['fcp'] for result in grid_search_results.values()]\n",
    "})\n",
    "display(result_dataframe)"
   ],
   "metadata": {
    "collapsed": false,
    "ExecuteTime": {
     "end_time": "2023-12-02T01:55:34.665066522Z",
     "start_time": "2023-12-02T01:55:34.605479642Z"
    }
   }
  },
  {
   "cell_type": "code",
   "source": [
    "best_algo = grid_search_results[SVD].best_estimator['rmse']\n",
    "best_params = grid_search_results[SVD].best_params['rmse']"
   ],
   "metadata": {
    "id": "WrzdegA0tQat",
    "ExecuteTime": {
     "end_time": "2023-12-02T01:57:50.854452832Z",
     "start_time": "2023-12-02T01:57:50.846929490Z"
    }
   },
   "execution_count": 43,
   "outputs": []
  },
  {
   "cell_type": "code",
   "source": [
    "from pprint import pprint\n",
    "\n",
    "print(f'chosen algorithm: {best_algo.__class__.__name__}')\n",
    "print('with parameters:')\n",
    "pprint(best_params)"
   ],
   "metadata": {
    "colab": {
     "base_uri": "https://localhost:8080/"
    },
    "id": "vbm-XKWYxwU9",
    "outputId": "f164d78b-fce5-4866-fc23-4745fa8f00a0",
    "ExecuteTime": {
     "end_time": "2023-12-02T01:57:51.045203414Z",
     "start_time": "2023-12-02T01:57:51.037042798Z"
    }
   },
   "execution_count": 44,
   "outputs": [
    {
     "name": "stdout",
     "output_type": "stream",
     "text": [
      "chosen algorithm: SVD\n",
      "with parameters:\n",
      "{'lr_all': 0.005, 'n_epochs': 20, 'n_factors': 100, 'reg_all': 0.06}\n"
     ]
    }
   ]
  },
  {
   "cell_type": "code",
   "execution_count": 45,
   "outputs": [
    {
     "data": {
      "text/plain": "           RMSE       MAE       MSE       FCP\ncount  4.000000  4.000000  4.000000  4.000000\nmean   0.952776  0.750877  0.908166  0.696114\nstd    0.021980  0.018786  0.042352  0.002980\nmin    0.939384  0.739734  0.882475  0.693238\n25%    0.941124  0.741032  0.885734  0.694746\n50%    0.943060  0.742402  0.889380  0.695464\n75%    0.954711  0.752248  0.911812  0.696832\nmax    0.985601  0.778970  0.971427  0.700289",
      "text/html": "<div>\n<style scoped>\n    .dataframe tbody tr th:only-of-type {\n        vertical-align: middle;\n    }\n\n    .dataframe tbody tr th {\n        vertical-align: top;\n    }\n\n    .dataframe thead th {\n        text-align: right;\n    }\n</style>\n<table border=\"1\" class=\"dataframe\">\n  <thead>\n    <tr style=\"text-align: right;\">\n      <th></th>\n      <th>RMSE</th>\n      <th>MAE</th>\n      <th>MSE</th>\n      <th>FCP</th>\n    </tr>\n  </thead>\n  <tbody>\n    <tr>\n      <th>count</th>\n      <td>4.000000</td>\n      <td>4.000000</td>\n      <td>4.000000</td>\n      <td>4.000000</td>\n    </tr>\n    <tr>\n      <th>mean</th>\n      <td>0.952776</td>\n      <td>0.750877</td>\n      <td>0.908166</td>\n      <td>0.696114</td>\n    </tr>\n    <tr>\n      <th>std</th>\n      <td>0.021980</td>\n      <td>0.018786</td>\n      <td>0.042352</td>\n      <td>0.002980</td>\n    </tr>\n    <tr>\n      <th>min</th>\n      <td>0.939384</td>\n      <td>0.739734</td>\n      <td>0.882475</td>\n      <td>0.693238</td>\n    </tr>\n    <tr>\n      <th>25%</th>\n      <td>0.941124</td>\n      <td>0.741032</td>\n      <td>0.885734</td>\n      <td>0.694746</td>\n    </tr>\n    <tr>\n      <th>50%</th>\n      <td>0.943060</td>\n      <td>0.742402</td>\n      <td>0.889380</td>\n      <td>0.695464</td>\n    </tr>\n    <tr>\n      <th>75%</th>\n      <td>0.954711</td>\n      <td>0.752248</td>\n      <td>0.911812</td>\n      <td>0.696832</td>\n    </tr>\n    <tr>\n      <th>max</th>\n      <td>0.985601</td>\n      <td>0.778970</td>\n      <td>0.971427</td>\n      <td>0.700289</td>\n    </tr>\n  </tbody>\n</table>\n</div>"
     },
     "execution_count": 45,
     "metadata": {},
     "output_type": "execute_result"
    }
   ],
   "source": [
    "result_dataframe.describe()"
   ],
   "metadata": {
    "collapsed": false,
    "ExecuteTime": {
     "end_time": "2023-12-02T02:06:49.625002227Z",
     "start_time": "2023-12-02T02:06:49.576821198Z"
    }
   }
  },
  {
   "cell_type": "code",
   "execution_count": null,
   "outputs": [],
   "source": [],
   "metadata": {
    "collapsed": false
   }
  }
 ]
}
